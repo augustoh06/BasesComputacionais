{
  "nbformat": 4,
  "nbformat_minor": 0,
  "metadata": {
    "colab": {
      "provenance": [],
      "authorship_tag": "ABX9TyPVzX5JjpGm+7BMo7HDgDFL",
      "include_colab_link": true
    },
    "kernelspec": {
      "name": "python3",
      "display_name": "Python 3"
    },
    "language_info": {
      "name": "python"
    }
  },
  "cells": [
    {
      "cell_type": "markdown",
      "metadata": {
        "id": "view-in-github",
        "colab_type": "text"
      },
      "source": [
        "<a href=\"https://colab.research.google.com/github/augustoh06/BasesComputacionais/blob/master/Tarefa3Jo%C3%A3oAugustoMendesdeOliveira.ipynb\" target=\"_parent\"><img src=\"https://colab.research.google.com/assets/colab-badge.svg\" alt=\"Open In Colab\"/></a>"
      ]
    },
    {
      "cell_type": "markdown",
      "source": [
        "##**Exercício**\n",
        "- Escrever um notebook do Colab para calcular o número de segundos $s$, dado o número de horas contida em uma variável $h$.\n",
        "\n",
        "- Use o notebook para encontrar o número de segundos para 1) uma hora e meia; 2) 12 horas; 3) 24 horas.\n",
        "\n",
        "- Os três resultados devem ser mostrados ao executar o notebook.\n",
        "\n"
      ],
      "metadata": {
        "id": "FHB04j6-47R3"
      }
    },
    {
      "cell_type": "markdown",
      "source": [
        "**1) uma hora e meia;**"
      ],
      "metadata": {
        "id": "BHP_z2Ym6oym"
      }
    },
    {
      "cell_type": "code",
      "source": [
        "h = 1.5\n",
        "s = h * 60 *60\n",
        "s \n",
        "print('s =', s,'segundos')"
      ],
      "metadata": {
        "colab": {
          "base_uri": "https://localhost:8080/"
        },
        "id": "1MpWtJEr6qQg",
        "outputId": "f6d92643-c3d4-411b-86b2-b74bdcf1c732"
      },
      "execution_count": 47,
      "outputs": [
        {
          "output_type": "stream",
          "name": "stdout",
          "text": [
            "s = 5400.0 segundos\n"
          ]
        }
      ]
    },
    {
      "cell_type": "markdown",
      "source": [
        "**2) 12 horas;** "
      ],
      "metadata": {
        "id": "QKX1WzS27XHE"
      }
    },
    {
      "cell_type": "code",
      "source": [
        "h = 12\n",
        "s = h * 60 *60\n",
        "s \n",
        "print('s =', s,'segundos')"
      ],
      "metadata": {
        "colab": {
          "base_uri": "https://localhost:8080/"
        },
        "id": "0uaNLcBnJRTM",
        "outputId": "6e567c9f-19f1-48eb-c04e-e230b98a8daa"
      },
      "execution_count": 48,
      "outputs": [
        {
          "output_type": "stream",
          "name": "stdout",
          "text": [
            "s = 43200 segundos\n"
          ]
        }
      ]
    },
    {
      "cell_type": "markdown",
      "source": [
        "**3) 24 horas.**"
      ],
      "metadata": {
        "id": "8Ea6_2v4JtNk"
      }
    },
    {
      "cell_type": "code",
      "source": [
        "h = 24\n",
        "s = h * 60 *60\n",
        "s \n",
        "print('s =', s,'segundos')"
      ],
      "metadata": {
        "colab": {
          "base_uri": "https://localhost:8080/"
        },
        "id": "9MPpbvGvJxnF",
        "outputId": "449567cc-15be-43b6-9f51-d513cba12ba1"
      },
      "execution_count": 49,
      "outputs": [
        {
          "output_type": "stream",
          "name": "stdout",
          "text": [
            "s = 86400 segundos\n"
          ]
        }
      ]
    }
  ]
}